{
 "cells": [
  {
   "cell_type": "code",
   "execution_count": 1,
   "metadata": {
    "colab": {
     "base_uri": "https://localhost:8080/",
     "height": 72
    },
    "colab_type": "code",
    "id": "gfdq8bSO7s0a",
    "outputId": "038c2d3b-2a64-4f6f-edfd-a6d7b17bf193"
   },
   "outputs": [],
   "source": [
    "import torchvision\n",
    "import torch\n",
    "from torch import nn\n",
    "import torch.nn.functional as F\n",
    "import torchvision.models as models\n",
    "import torch.optim as optim\n",
    "import copy\n",
    "import os\n",
    "from tqdm.autonotebook import tqdm\n",
    "import matplotlib.pyplot as plt\n",
    "from torch.utils.data import Dataset\n",
    "from torchvision import transforms\n",
    "from torch.utils.data import DataLoader\n",
    "import numpy as np\n",
    "from torch.utils.data.sampler import SubsetRandomSampler\n",
    "import cv2\n",
    "import sys\n",
    "# 필요한 module import"
   ]
  },
  {
   "cell_type": "code",
   "execution_count": 2,
   "metadata": {
    "colab": {},
    "colab_type": "code",
    "id": "__TVncCdN1jN"
   },
   "outputs": [],
   "source": [
    "#Label file:\n",
    "data_path = 'content/crime16'\n",
    "classes = os.listdir(data_path)\n",
    "decoder = {}\n",
    "for i in range(len(classes)):\n",
    "    decoder[classes[i]] = i\n",
    "encoder = {}\n",
    "for i in range(len(classes)):\n",
    "    encoder[i] = classes[i]\n",
    "# classes에 data_path에 저장된 폴더 개수를 저장해주고 decoder는 dictionary형식으로 class 이름에 맞는 label에 숫자를 0~ 붙여준다.\n",
    "# encoder에는 해당 label에 숫자에 범죄 행위 이름을 붙여준다."
   ]
  },
  {
   "cell_type": "code",
   "execution_count": 3,
   "metadata": {
    "colab": {},
    "colab_type": "code",
    "id": "TiuCb0FPCn87"
   },
   "outputs": [],
   "source": [
    "id = list()\n",
    "path = 'content/crime16'\n",
    "for i in os.listdir(path):\n",
    "  p1 = os.path.join(path,i)\n",
    "  for j in os.listdir(p1):\n",
    "    p2 = os.path.join(p1,j)\n",
    "    id.append((i,p2))\n",
    "# id 리스트에 해당 폴더의 범죄행위이름과 경로정보를 포함한 jpg string data를 저장한다."
   ]
  },
  {
   "cell_type": "code",
   "execution_count": 4,
   "metadata": {
    "colab": {},
    "colab_type": "code",
    "id": "v5iUVP4p6VFn"
   },
   "outputs": [],
   "source": [
    "class video_dataset(Dataset):\n",
    "    def __init__(self,frame_list,sequence_length = 16,transform = None):\n",
    "        self.frame_list = frame_list\n",
    "        # 범죄 이름과 해당 jpg string data가 저장된 list를 받아온다.\n",
    "        self.transform = transform\n",
    "        # image를 transform해서 저장할때 필요한 인자들 저장 (어떻게 transform할 것인지) \n",
    "        self.sequence_length = sequence_length\n",
    "        # 몇개로 구성된 image인지 저장\n",
    "    def __len__(self):\n",
    "        return len(self.frame_list)\n",
    "        # 총 몇개의 data를 훈련시키는지 출력\n",
    "    def __getitem__(self,idx):\n",
    "        label,path = self.frame_list[idx]\n",
    "        # label과 path 정보를 self.frame_list로부터 받아온다.\n",
    "        img = cv2.imread(path)\n",
    "        # 해당 path에 image를 받아온다.\n",
    "        seq_img = list()\n",
    "        for i in range(16):\n",
    "            # 총 32개의 image를 train\n",
    "          img1 = img[:,128*i:128*(i+1),:]\n",
    "            # img1에 img에 저장된 16개의 image들을 1개씩 받아온다.\n",
    "          if(self.transform):\n",
    "            img1 = self.transform(img1)\n",
    "            # img1을 self.transform에 저장된 인자값들로 변환시킨다.\n",
    "          seq_img.append(img1)\n",
    "        # 변환된 img1을 다시 seq_img 리스트에 저장\n",
    "        seq_image = torch.stack(seq_img)\n",
    "        # torch data로 저장 (stack을 통해서 1차원을 늘려준다. seq_img data를 1개씩 쌓아서 저장한다.)\n",
    "        seq_image = seq_image.reshape(3,16,im_size,im_size)\n",
    "        # seq_image의 shape를 3, 16, 128, 128로 바꾼다.\n",
    "        return seq_image,decoder[label]\n",
    "    # seq_image와 해당 label의 숫자값을 return"
   ]
  },
  {
   "cell_type": "code",
   "execution_count": 5,
   "metadata": {
    "colab": {},
    "colab_type": "code",
    "id": "msB4umEmPxj6"
   },
   "outputs": [],
   "source": [
    "im_size = 128\n",
    "mean = [0.4889, 0.4887, 0.4891]\n",
    "std = [0.2074, 0.2074, 0.2074]\n",
    "# image size는 128x128\n",
    "# normalize 값을 지정\n",
    "\n",
    "train_transforms = transforms.Compose([\n",
    "                                        transforms.ToPILImage(),\n",
    "                                        transforms.Resize((im_size,im_size)),\n",
    "                                        transforms.RandomHorizontalFlip(),\n",
    "                                        transforms.RandomRotation(degrees=10),\n",
    "                                        transforms.ToTensor(),\n",
    "                                        transforms.Normalize(mean,std)])\n",
    "# PIL image로 변환시키고 128x128로 크기 변경, random하게 좌우반전, 10도씩 random하게 image 회전, tensor로 바꾸고 normalize 적용\n",
    "train_data = video_dataset(id,sequence_length = 16,transform = train_transforms)\n",
    "# train_data 객체 생성\n",
    "train_loader = DataLoader(train_data,batch_size = 1\n",
    "                          ,num_workers = 0 ,shuffle = True)\n",
    "# batch_size는 10, num_workers는 병렬 연결 0으로 하고 shuffle로 data 섞기\n",
    "dataloaders = {'train':train_loader}\n",
    "# dataloaders에 train_loader 저장"
   ]
  },
  {
   "cell_type": "code",
   "execution_count": 6,
   "metadata": {
    "colab": {},
    "colab_type": "code",
    "id": "NqtR9UDF72pX"
   },
   "outputs": [],
   "source": [
    "from model import resnet50\n",
    "model = resnet50(class_num=8)\n",
    "# model.py에서 resnet50 model을 받아온다. (slowfast 모델)\n",
    "# class 개수는 8개, cuda로 변환"
   ]
  },
  {
   "cell_type": "code",
   "execution_count": 7,
   "metadata": {
    "colab": {},
    "colab_type": "code",
    "id": "QqyU-0k67-N_"
   },
   "outputs": [],
   "source": [
    "from clr import *\n",
    "cls_criterion = nn.CrossEntropyLoss()\n",
    "optimizer = torch.optim.SGD(model.parameters(), lr=1e-3, momentum = 0.9,weight_decay = 1e-4)\n",
    "num_epochs = 30\n",
    "onecyc = OneCycle(len(train_loader)*num_epochs,1e-3)\n",
    "# onecycle 방법을 통해서 learning_rate와 momentum, weight_deacy값을 계속 수정시킨다."
   ]
  },
  {
   "cell_type": "code",
   "execution_count": 8,
   "metadata": {
    "colab": {
     "base_uri": "https://localhost:8080/",
     "height": 1000
    },
    "colab_type": "code",
    "id": "ybCCnE-T8GzU",
    "outputId": "c61a164b-7d91-4455-ee0a-f92374f9aaca"
   },
   "outputs": [
    {
     "name": "stdout",
     "output_type": "stream",
     "text": [
      "\n",
      "--- Epoch 0 ---\n",
      "\n",
      "--- Phase train ---\n",
      "[Epoch 0/30] [Batch 5839/5840] [Loss: 1.880917 (3.269508), Acc: 0.00% (16.18%)])]\n",
      "train , acc: 16.181506849315067\n",
      "\n",
      "--- Epoch 1 ---\n",
      "\n",
      "--- Phase train ---\n",
      "[Epoch 1/30] [Batch 5839/5840] [Loss: 2.461759 (2.681403), Acc: 0.00% (17.24%)])]\n",
      "train , acc: 17.243150684931507\n",
      "\n",
      "--- Epoch 2 ---\n",
      "\n",
      "--- Phase train ---\n",
      "[Epoch 2/30] [Batch 5839/5840] [Loss: 3.012767 (2.433183), Acc: 0.00% (18.80%)])]\n",
      "train , acc: 18.801369863013697\n",
      "\n",
      "--- Epoch 3 ---\n",
      "\n",
      "--- Phase train ---\n",
      "[Epoch 3/30] [Batch 5839/5840] [Loss: 3.208664 (2.264793), Acc: 0.00% (22.65%)])]\n",
      "train , acc: 22.654109589041095\n",
      "\n",
      "--- Epoch 4 ---\n",
      "\n",
      "--- Phase train ---\n",
      "[Epoch 4/30] [Batch 5839/5840] [Loss: 1.882558 (2.241064), Acc: 0.00% (21.59%)])]\n",
      "train , acc: 21.59246575342466\n",
      "\n",
      "--- Epoch 5 ---\n",
      "\n",
      "--- Phase train ---\n",
      "[Epoch 5/30] [Batch 5839/5840] [Loss: 0.614110 (2.147078), Acc: 100.00% (24.73%)]\n",
      "train , acc: 24.726027397260275\n",
      "\n",
      "--- Epoch 6 ---\n",
      "\n",
      "--- Phase train ---\n",
      "[Epoch 6/30] [Batch 5839/5840] [Loss: 0.969717 (2.121358), Acc: 100.00% (25.86%)]\n",
      "train , acc: 25.856164383561644\n",
      "\n",
      "--- Epoch 7 ---\n",
      "\n",
      "--- Phase train ---\n",
      "[Epoch 7/30] [Batch 5839/5840] [Loss: 1.134069 (2.060690), Acc: 100.00% (27.72%)]\n",
      "train , acc: 27.722602739726028\n",
      "\n",
      "--- Epoch 8 ---\n",
      "\n",
      "--- Phase train ---\n",
      "[Epoch 8/30] [Batch 5839/5840] [Loss: 3.602523 (2.009498), Acc: 0.00% (28.82%)])]\n",
      "train , acc: 28.818493150684933\n",
      "\n",
      "--- Epoch 9 ---\n",
      "\n",
      "--- Phase train ---\n",
      "[Epoch 9/30] [Batch 5839/5840] [Loss: 0.188819 (1.972505), Acc: 100.00% (31.39%)]\n",
      "train , acc: 31.386986301369863\n",
      "\n",
      "--- Epoch 10 ---\n",
      "\n",
      "--- Phase train ---\n",
      "[Epoch 10/30] [Batch 5839/5840] [Loss: 2.149606 (1.898256), Acc: 0.00% (33.48%)])]\n",
      "train , acc: 33.476027397260275\n",
      "\n",
      "--- Epoch 11 ---\n",
      "\n",
      "--- Phase train ---\n",
      "[Epoch 11/30] [Batch 5839/5840] [Loss: 0.724093 (1.805032), Acc: 100.00% (35.99%)]\n",
      "train , acc: 35.99315068493151\n",
      "\n",
      "--- Epoch 12 ---\n",
      "\n",
      "--- Phase train ---\n",
      "[Epoch 12/30] [Batch 5839/5840] [Loss: 3.831866 (1.726695), Acc: 0.00% (39.01%)])]\n",
      "train , acc: 39.00684931506849\n",
      "\n",
      "--- Epoch 13 ---\n",
      "\n",
      "--- Phase train ---\n",
      "[Epoch 13/30] [Batch 5839/5840] [Loss: 0.583162 (1.641178), Acc: 100.00% (41.56%)]\n",
      "train , acc: 41.55821917808219\n",
      "\n",
      "--- Epoch 14 ---\n",
      "\n",
      "--- Phase train ---\n",
      "[Epoch 14/30] [Batch 5839/5840] [Loss: 2.805101 (1.565646), Acc: 0.00% (43.97%)])]\n",
      "train , acc: 43.97260273972603\n",
      "\n",
      "--- Epoch 15 ---\n",
      "\n",
      "--- Phase train ---\n",
      "[Epoch 15/30] [Batch 5839/5840] [Loss: 2.237042 (1.369827), Acc: 0.00% (49.79%)])]\n",
      "train , acc: 49.794520547945204\n",
      "\n",
      "--- Epoch 16 ---\n",
      "\n",
      "--- Phase train ---\n",
      "[Epoch 16/30] [Batch 5839/5840] [Loss: 1.956648 (1.238467), Acc: 0.00% (54.47%)])]\n",
      "train , acc: 54.46917808219178\n",
      "\n",
      "--- Epoch 17 ---\n",
      "\n",
      "--- Phase train ---\n",
      "[Epoch 17/30] [Batch 5839/5840] [Loss: 0.012124 (1.087870), Acc: 100.00% (59.88%)]\n",
      "train , acc: 59.88013698630137\n",
      "\n",
      "--- Epoch 18 ---\n",
      "\n",
      "--- Phase train ---\n",
      "[Epoch 18/30] [Batch 5839/5840] [Loss: 0.001070 (0.927703), Acc: 100.00% (65.68%)]\n",
      "train , acc: 65.68493150684931\n",
      "\n",
      "--- Epoch 19 ---\n",
      "\n",
      "--- Phase train ---\n",
      "[Epoch 19/30] [Batch 5839/5840] [Loss: 0.285837 (0.769178), Acc: 100.00% (72.19%)]\n",
      "train , acc: 72.1917808219178\n",
      "\n",
      "--- Epoch 20 ---\n",
      "\n",
      "--- Phase train ---\n",
      "[Epoch 20/30] [Batch 5839/5840] [Loss: 0.106536 (0.661639), Acc: 100.00% (76.20%)]\n",
      "train , acc: 76.1986301369863\n",
      "\n",
      "--- Epoch 21 ---\n",
      "\n",
      "--- Phase train ---\n",
      "[Epoch 21/30] [Batch 5839/5840] [Loss: 0.067310 (0.509816), Acc: 100.00% (81.73%)]\n",
      "train , acc: 81.72945205479452\n",
      "\n",
      "--- Epoch 22 ---\n",
      "\n",
      "--- Phase train ---\n",
      "[Epoch 22/30] [Batch 5839/5840] [Loss: 0.018250 (0.363135), Acc: 100.00% (87.96%)]\n",
      "train , acc: 87.96232876712328\n",
      "\n",
      "--- Epoch 23 ---\n",
      "\n",
      "--- Phase train ---\n",
      "[Epoch 23/30] [Batch 5839/5840] [Loss: 0.010971 (0.288131), Acc: 100.00% (90.86%)]\n",
      "train , acc: 90.85616438356165\n",
      "\n",
      "--- Epoch 24 ---\n",
      "\n",
      "--- Phase train ---\n",
      "[Epoch 24/30] [Batch 5839/5840] [Loss: 0.011965 (0.185304), Acc: 100.00% (94.16%)]\n",
      "train , acc: 94.16095890410959\n",
      "\n",
      "--- Epoch 25 ---\n",
      "\n",
      "--- Phase train ---\n",
      "[Epoch 25/30] [Batch 5839/5840] [Loss: 0.008959 (0.134292), Acc: 100.00% (96.35%)]\n",
      "train , acc: 96.3527397260274\n",
      "\n",
      "--- Epoch 26 ---\n",
      "\n",
      "--- Phase train ---\n",
      "[Epoch 26/30] [Batch 5839/5840] [Loss: 0.033812 (0.064229), Acc: 100.00% (98.68%)]\n",
      "train , acc: 98.68150684931507\n",
      "\n",
      "--- Epoch 27 ---\n",
      "\n",
      "--- Phase train ---\n",
      "[Epoch 27/30] [Batch 5839/5840] [Loss: 0.019118 (0.049240), Acc: 100.00% (99.02%)]\n",
      "train , acc: 99.02397260273973\n",
      "\n",
      "--- Epoch 28 ---\n",
      "\n",
      "--- Phase train ---\n",
      "[Epoch 28/30] [Batch 5839/5840] [Loss: 0.017521 (0.037435), Acc: 100.00% (99.33%)]\n",
      "train , acc: 99.33219178082192\n",
      "\n",
      "--- Epoch 29 ---\n",
      "\n",
      "--- Phase train ---\n",
      "[Epoch 29/30] [Batch 5839/5840] [Loss: 0.071719 (0.032760), Acc: 100.00% (99.50%)]\n",
      "train , acc: 99.50342465753425\n"
     ]
    }
   ],
   "source": [
    "os.makedirs('content/weights_crime_16',exist_ok = True)\n",
    "from torch.autograd import Variable\n",
    "iteration = 0\n",
    "acc_all = list()\n",
    "loss_all = list()\n",
    "    \n",
    "for epoch in range(num_epochs):\n",
    "    print('')\n",
    "    print(f\"--- Epoch {epoch} ---\")\n",
    "    phase1 = dataloaders.keys()\n",
    "    # phase1에 train_loaders 저장\n",
    "    for phase in phase1:\n",
    "        print('')\n",
    "        print(f\"--- Phase {phase} ---\")\n",
    "        epoch_metrics = {\"loss\": [], \"acc\": []}\n",
    "        '''print(\"phase: \", phase)\n",
    "        print(\"dataloaders[phase] : \", dataloaders[phase])'''\n",
    "        for batch_i, (X, y) in enumerate(dataloaders[phase]):\n",
    "            #iteration = iteration+1\n",
    "            image_sequences = Variable(X, requires_grad=True)\n",
    "            # Variable 변수 image_sequences 선언\n",
    "            labels = Variable(y, requires_grad=False)\n",
    "            # Variable 변수 labels 선언\n",
    "            optimizer.zero_grad()\n",
    "            # gradient descent 직전에 초기화 해주기.\n",
    "            #model.lstm.reset_hidden_state()\n",
    "            predictions = model(image_sequences)\n",
    "            # model을 통과시킨 예측값을 predictions에 저장\n",
    "            loss = cls_criterion(predictions, labels)\n",
    "            # loss값은 one_cycle 방식을 통해서 예측값과 label값으로 계산\n",
    "            acc = 100 * (predictions.detach().argmax(1) == labels).cpu().numpy().mean()\n",
    "            # accuracy 값은 predictions 계산을 잠깐 멈추고 해당 label 10개에 몇 개의 data가 정확한지 계산 \n",
    "            loss.backward()\n",
    "            # loss값을 통해 back propagation\n",
    "            optimizer.step()\n",
    "            # optimizer 값 갱신\n",
    "            epoch_metrics[\"loss\"].append(loss.item())\n",
    "            epoch_metrics[\"acc\"].append(acc)\n",
    "            # epoch metrics에 저장\n",
    "            if(phase=='train'):\n",
    "                lr,mom = onecyc.calc()\n",
    "                update_lr(optimizer, lr)\n",
    "                update_mom(optimizer, mom)\n",
    "                # learning_rate와 momentum을 갱신\n",
    "            batches_done = epoch * len(dataloaders[phase]) + batch_i\n",
    "            # 진행한 batch 개수\n",
    "            batches_left = num_epochs * len(dataloaders[phase]) - batches_done\n",
    "            # 남은 batch 개수\n",
    "            sys.stdout.write(\n",
    "                    \"\\r[Epoch %d/%d] [Batch %d/%d] [Loss: %f (%f), Acc: %.2f%% (%.2f%%)]\"\n",
    "                    % (\n",
    "                        epoch,\n",
    "                        num_epochs,\n",
    "                        batch_i,\n",
    "                        len(dataloaders[phase]),\n",
    "                        loss.item(),\n",
    "                        np.mean(epoch_metrics[\"loss\"]),\n",
    "                        acc,\n",
    "                        np.mean(epoch_metrics[\"acc\"]),\n",
    "                    )\n",
    "                )\n",
    "\n",
    "                # Empty cache\n",
    "            if torch.cuda.is_available():\n",
    "                torch.cuda.empty_cache()\n",
    "            \n",
    "        print('')\n",
    "        print('{} , acc: {}'.format(phase,np.mean(epoch_metrics[\"acc\"])))\n",
    "        torch.save(model.state_dict(),'content/weights_crime/c3d_{}.h5'.format(epoch))\n",
    "        if(phase=='train'):\n",
    "          acc_all.append(np.mean(epoch_metrics[\"acc\"]))\n",
    "          loss_all.append(np.mean(epoch_metrics[\"loss\"]))"
   ]
  },
  {
   "cell_type": "code",
   "execution_count": 9,
   "metadata": {
    "colab": {},
    "colab_type": "code",
    "id": "sH7XMOAjV7DH"
   },
   "outputs": [],
   "source": [
    "def error_plot(loss):\n",
    "    plt.figure(figsize=(10,5))\n",
    "    plt.plot(loss)\n",
    "    plt.title(\"Training loss plot\")\n",
    "    plt.xlabel(\"epochs\")\n",
    "    plt.ylabel(\"Loss\")\n",
    "    plt.show()\n",
    "def acc_plot(acc):\n",
    "    plt.figure(figsize=(10,5))\n",
    "    plt.plot(acc)\n",
    "    plt.title(\"Training accuracy plot\")\n",
    "    plt.xlabel(\"epochs\")\n",
    "    plt.ylabel(\"accuracy\")\n",
    "    plt.show()"
   ]
  },
  {
   "cell_type": "code",
   "execution_count": 10,
   "metadata": {
    "colab": {
     "base_uri": "https://localhost:8080/",
     "height": 369
    },
    "colab_type": "code",
    "id": "QoXZ08iHXbD2",
    "outputId": "e725be2b-ade8-4722-9806-10b6d026a33d"
   },
   "outputs": [
    {
     "data": {
      "text/plain": [
       "[3.2695082283453525,\n",
       " 2.681403369305987,\n",
       " 2.433182746297616,\n",
       " 2.26479323925578,\n",
       " 2.2410643723691264,\n",
       " 2.1470780482196745,\n",
       " 2.12135764951116,\n",
       " 2.060689701110584,\n",
       " 2.009497704674579,\n",
       " 1.9725051668475777,\n",
       " 1.8982560078278568,\n",
       " 1.8050321176637774,\n",
       " 1.7266945974627823,\n",
       " 1.6411778164980055,\n",
       " 1.5656462010552736,\n",
       " 1.3698265745728924,\n",
       " 1.238466940185634,\n",
       " 1.0878700755836814,\n",
       " 0.9277025095712667,\n",
       " 0.7691778068666356,\n",
       " 0.6616386780781235,\n",
       " 0.5098160772815366,\n",
       " 0.3631345968361648,\n",
       " 0.2881314122895199,\n",
       " 0.18530446795125016,\n",
       " 0.13429198603960354,\n",
       " 0.0642286332312548,\n",
       " 0.049239739356185,\n",
       " 0.03743541394451469,\n",
       " 0.03275964578302866]"
      ]
     },
     "execution_count": 10,
     "metadata": {},
     "output_type": "execute_result"
    }
   ],
   "source": [
    "loss_all"
   ]
  },
  {
   "cell_type": "code",
   "execution_count": 11,
   "metadata": {
    "colab": {
     "base_uri": "https://localhost:8080/",
     "height": 350
    },
    "colab_type": "code",
    "id": "YtVNjFyeWVrd",
    "outputId": "94439267-4308-404b-d552-529f6afe290b"
   },
   "outputs": [
    {
     "data": {
      "image/png": "[encoded data removed]",
      "text/plain": [
       "<Figure size 720x360 with 1 Axes>"
      ]
     },
     "metadata": {
      "needs_background": "light"
     },
     "output_type": "display_data"
    }
   ],
   "source": [
    "error_plot(loss_all)"
   ]
  },
  {
   "cell_type": "code",
   "execution_count": 12,
   "metadata": {
    "colab": {
     "base_uri": "https://localhost:8080/",
     "height": 350
    },
    "colab_type": "code",
    "id": "dybBWSyyWZfY",
    "outputId": "831e8b30-67d0-494a-ca6c-666f63637f7f"
   },
   "outputs": [
    {
     "data": {
      "image/png": "[encoded data removed]",
      "text/plain": [
       "<Figure size 720x360 with 1 Axes>"
      ]
     },
     "metadata": {
      "needs_background": "light"
     },
     "output_type": "display_data"
    }
   ],
   "source": [
    "acc_plot(acc_all)"
   ]
  },
  {
   "cell_type": "code",
   "execution_count": null,
   "metadata": {},
   "outputs": [],
   "source": []
  }
 ],
 "metadata": {
  "accelerator": "GPU",
  "colab": {
   "collapsed_sections": [],
   "name": "video_dataset_creation.ipynb",
   "provenance": [],
   "version": "0.3.2"
  },
  "kernelspec": {
   "display_name": "Python 3",
   "language": "python",
   "name": "python3"
  },
  "language_info": {
   "codemirror_mode": {
    "name": "ipython",
    "version": 3
   },
   "file_extension": ".py",
   "mimetype": "text/x-python",
   "name": "python",
   "nbconvert_exporter": "python",
   "pygments_lexer": "ipython3",
   "version": "3.6.12"
  }
 },
 "nbformat": 4,
 "nbformat_minor": 1
}
