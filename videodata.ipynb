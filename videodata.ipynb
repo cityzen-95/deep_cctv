{
 "cells": [
  {
   "cell_type": "markdown",
   "metadata": {
    "colab_type": "text",
    "id": "view-in-github"
   },
   "source": [
    "<a href=\"https://colab.research.google.com/github/sanchit2843/Videoclassification/blob/master/videodata.ipynb\" target=\"_parent\"><img src=\"https://colab.research.google.com/assets/colab-badge.svg\" alt=\"Open In Colab\"/></a>"
   ]
  },
  {
   "cell_type": "code",
   "execution_count": 15,
   "metadata": {
    "colab": {},
    "colab_type": "code",
    "id": "dxHT3jBOLqLX"
   },
   "outputs": [],
   "source": [
    "import av\n",
    "import glob\n",
    "import os\n",
    "import time\n",
    "import tqdm\n",
    "import datetime\n",
    "import argparse\n",
    "# 필요한 모듈 import"
   ]
  },
  {
   "cell_type": "code",
   "execution_count": 16,
   "metadata": {
    "colab": {},
    "colab_type": "code",
    "id": "kJ_JWODgL3Nh"
   },
   "outputs": [],
   "source": [
    "def extract_frames(video_path):\n",
    "    frames = []\n",
    "    video = av.open(video_path)\n",
    "    for frame in video.decode(0):\n",
    "        yield frame.to_image()\n",
    "# video의 경로를 받아와서 frame 단위로 image 변환"
   ]
  },
  {
   "cell_type": "code",
   "execution_count": 17,
   "metadata": {
    "colab": {},
    "colab_type": "code",
    "id": "AI2b5lugL4i3"
   },
   "outputs": [
    {
     "data": {
      "application/vnd.jupyter.widget-view+json": {
       "model_id": "4a6d4596fd6a44f2a0472c1d432a2672",
       "version_major": 2,
       "version_minor": 0
      },
      "text/plain": [
       "HBox(children=(HTML(value=''), FloatProgress(value=0.0, max=4.0), HTML(value='')))"
      ]
     },
     "metadata": {},
     "output_type": "display_data"
    },
    {
     "name": "stderr",
     "output_type": "stream",
     "text": [
      "stream 0, timescale not set\n"
     ]
    },
    {
     "name": "stdout",
     "output_type": "stream",
     "text": [
      "\n"
     ]
    },
    {
     "ename": "KeyboardInterrupt",
     "evalue": "",
     "output_type": "error",
     "traceback": [
      "\u001b[1;31m---------------------------------------------------------------------------\u001b[0m",
      "\u001b[1;31mKeyboardInterrupt\u001b[0m                         Traceback (most recent call last)",
      "\u001b[1;32m<ipython-input-17-44dafaf01c09>\u001b[0m in \u001b[0;36m<module>\u001b[1;34m\u001b[0m\n\u001b[0;32m     17\u001b[0m     \u001b[0mr2\u001b[0m \u001b[1;33m=\u001b[0m \u001b[0mos\u001b[0m\u001b[1;33m.\u001b[0m\u001b[0mpath\u001b[0m\u001b[1;33m.\u001b[0m\u001b[0mjoin\u001b[0m\u001b[1;33m(\u001b[0m\u001b[0mr1\u001b[0m\u001b[1;33m,\u001b[0m\u001b[0mj\u001b[0m\u001b[1;33m[\u001b[0m\u001b[1;33m:\u001b[0m\u001b[1;33m-\u001b[0m\u001b[1;36m4\u001b[0m\u001b[1;33m]\u001b[0m\u001b[1;33m)\u001b[0m\u001b[1;33m\u001b[0m\u001b[1;33m\u001b[0m\u001b[0m\n\u001b[0;32m     18\u001b[0m     \u001b[0mos\u001b[0m\u001b[1;33m.\u001b[0m\u001b[0mmakedirs\u001b[0m\u001b[1;33m(\u001b[0m\u001b[0mr2\u001b[0m\u001b[1;33m,\u001b[0m\u001b[0mexist_ok\u001b[0m \u001b[1;33m=\u001b[0m \u001b[1;32mTrue\u001b[0m\u001b[1;33m)\u001b[0m\u001b[1;33m\u001b[0m\u001b[1;33m\u001b[0m\u001b[0m\n\u001b[1;32m---> 19\u001b[1;33m     \u001b[1;32mfor\u001b[0m \u001b[0mj\u001b[0m\u001b[1;33m,\u001b[0m \u001b[0mframe\u001b[0m \u001b[1;32min\u001b[0m \u001b[0menumerate\u001b[0m\u001b[1;33m(\u001b[0m\u001b[1;33m(\u001b[0m\u001b[0mextract_frames\u001b[0m\u001b[1;33m(\u001b[0m\u001b[0mvid_path\u001b[0m\u001b[1;33m)\u001b[0m\u001b[1;33m)\u001b[0m\u001b[1;33m)\u001b[0m\u001b[1;33m:\u001b[0m\u001b[1;33m\u001b[0m\u001b[1;33m\u001b[0m\u001b[0m\n\u001b[0m\u001b[0;32m     20\u001b[0m       \u001b[0mframe\u001b[0m\u001b[1;33m.\u001b[0m\u001b[0msave\u001b[0m\u001b[1;33m(\u001b[0m\u001b[0mos\u001b[0m\u001b[1;33m.\u001b[0m\u001b[0mpath\u001b[0m\u001b[1;33m.\u001b[0m\u001b[0mjoin\u001b[0m\u001b[1;33m(\u001b[0m\u001b[0mr2\u001b[0m\u001b[1;33m,\u001b[0m \u001b[1;34mf\"{j}.jpg\"\u001b[0m\u001b[1;33m)\u001b[0m\u001b[1;33m)\u001b[0m\u001b[1;33m\u001b[0m\u001b[1;33m\u001b[0m\u001b[0m\n\u001b[0;32m     21\u001b[0m     \u001b[1;31m# 범죄 폴더에 해당 영상에 맞는 frame 추출 image들을 저장\u001b[0m\u001b[1;33m\u001b[0m\u001b[1;33m\u001b[0m\u001b[1;33m\u001b[0m\u001b[0m\n",
      "\u001b[1;32m<ipython-input-16-5b98ba33dd2d>\u001b[0m in \u001b[0;36mextract_frames\u001b[1;34m(video_path)\u001b[0m\n\u001b[0;32m      3\u001b[0m     \u001b[0mvideo\u001b[0m \u001b[1;33m=\u001b[0m \u001b[0mav\u001b[0m\u001b[1;33m.\u001b[0m\u001b[0mopen\u001b[0m\u001b[1;33m(\u001b[0m\u001b[0mvideo_path\u001b[0m\u001b[1;33m)\u001b[0m\u001b[1;33m\u001b[0m\u001b[1;33m\u001b[0m\u001b[0m\n\u001b[0;32m      4\u001b[0m     \u001b[1;32mfor\u001b[0m \u001b[0mframe\u001b[0m \u001b[1;32min\u001b[0m \u001b[0mvideo\u001b[0m\u001b[1;33m.\u001b[0m\u001b[0mdecode\u001b[0m\u001b[1;33m(\u001b[0m\u001b[1;36m0\u001b[0m\u001b[1;33m)\u001b[0m\u001b[1;33m:\u001b[0m\u001b[1;33m\u001b[0m\u001b[1;33m\u001b[0m\u001b[0m\n\u001b[1;32m----> 5\u001b[1;33m         \u001b[1;32myield\u001b[0m \u001b[0mframe\u001b[0m\u001b[1;33m.\u001b[0m\u001b[0mto_image\u001b[0m\u001b[1;33m(\u001b[0m\u001b[1;33m)\u001b[0m\u001b[1;33m\u001b[0m\u001b[1;33m\u001b[0m\u001b[0m\n\u001b[0m\u001b[0;32m      6\u001b[0m \u001b[1;31m# video의 경로를 받아와서 frame 단위로 image 변환\u001b[0m\u001b[1;33m\u001b[0m\u001b[1;33m\u001b[0m\u001b[1;33m\u001b[0m\u001b[0m\n",
      "\u001b[1;31mKeyboardInterrupt\u001b[0m: "
     ]
    }
   ],
   "source": [
    "#Anomaly videos part1\n",
    "from tqdm.autonotebook import tqdm\n",
    "# 진행정도 파악을 위한 진행상태표시바\n",
    "path = 'content/Anomaly_Dataset/Anomaly_Videos/Anomaly-Videos-Part-1'\n",
    "result = 'content/Dataset_16'\n",
    "# video-part-1에 영상들을 image로 변환 후 content/Dataset폴더에 해당 범죄에 맞는 폴더에 저장\n",
    "\n",
    "for i in tqdm(os.listdir(path)):\n",
    "  p1 = os.path.join(path,i)\n",
    "  r1 = os.path.join(result,i)\n",
    "  if os.path.exists(r1):\n",
    "            continue\n",
    "  os.makedirs(r1,exist_ok = True)\n",
    "    # 해당 폴더가 없을시 폴더를 생성\n",
    "  for j in os.listdir(p1):\n",
    "    vid_path = os.path.join(p1,j)\n",
    "    r2 = os.path.join(r1,j[:-4])\n",
    "    os.makedirs(r2,exist_ok = True)\n",
    "    for j, frame in enumerate((extract_frames(vid_path))):\n",
    "      frame.save(os.path.join(r2, f\"{j}.jpg\"))\n",
    "    # 범죄 폴더에 해당 영상에 맞는 frame 추출 image들을 저장"
   ]
  },
  {
   "cell_type": "code",
   "execution_count": null,
   "metadata": {
    "colab": {},
    "colab_type": "code",
    "id": "VfE3W105L7Ik"
   },
   "outputs": [],
   "source": [
    "#Anomaly videos part2\n",
    "from tqdm.autonotebook import tqdm\n",
    "path = 'content/Anomaly_Dataset/Anomaly_Videos/Anomaly-Videos-Part-2'\n",
    "result = 'content/Dataset_16'\n",
    "# part2의 영상들을 image로 변환 후 저장\n",
    "\n",
    "for i in tqdm(os.listdir(path)):\n",
    "  p1 = os.path.join(path,i)\n",
    "  r1 = os.path.join(result,i)\n",
    "  if os.path.exists(r1):\n",
    "            continue\n",
    "  os.makedirs(r1,exist_ok = True)\n",
    "  for j in os.listdir(p1):\n",
    "    vid_path = os.path.join(p1,j)\n",
    "    r2 = os.path.join(r1,j[:-4])\n",
    "    os.makedirs(r2,exist_ok = True)\n",
    "    for j, frame in enumerate((extract_frames(vid_path))):\n",
    "      frame.save(os.path.join(r2, f\"{j}.jpg\"))"
   ]
  },
  {
   "cell_type": "code",
   "execution_count": null,
   "metadata": {
    "colab": {},
    "colab_type": "code",
    "id": "h6agWZGsL8iL"
   },
   "outputs": [],
   "source": [
    "#Normal class\n",
    "from tqdm.autonotebook import tqdm\n",
    "path = 'content/Anomaly_Dataset/Anomaly_Videos/Normal-Videos-Part-1'\n",
    "result = 'content/Dataset_16/normal'\n",
    "# normal 영상들을 image로 변환 후 저장\n",
    "\n",
    "for i in tqdm(os.listdir(path)):\n",
    "  p1 = os.path.join(path,i)\n",
    "  r1 = os.path.join(result,i[:-4])\n",
    "  if os.path.exists(r1):\n",
    "            continue\n",
    "  os.makedirs(r1,exist_ok = True)\n",
    "  for k, frame in enumerate((extract_frames(p1))):\n",
    "    frame.save(os.path.join(r1, f\"{k}.jpg\"))"
   ]
  },
  {
   "cell_type": "code",
   "execution_count": null,
   "metadata": {
    "colab": {},
    "colab_type": "code",
    "id": "UTtNLnTILnxq"
   },
   "outputs": [],
   "source": [
    "import cv2\n",
    "import numpy as np\n",
    "\n",
    "path = 'content/Dataset_16'\n",
    "res = 'content/crime16'\n",
    "#Number\n",
    "seq_length = 16\n",
    "# 32개 image를 합쳐서 1개의 image로 변환시킨다. \n",
    "# 변환시킨 image를 content/crime16 폴더에 저장한다.\n",
    "\n",
    "def preprocess_data(seq_length,path,res):\n",
    "  dir = os.listdir(path)\n",
    "  for i in tqdm(dir):\n",
    "      p1 = os.path.join(path,i)\n",
    "      r1 = os.path.join(res,i)\n",
    "      os.makedirs(r1,exist_ok = True)\n",
    "      for j in os.listdir(p1):\n",
    "          p2 = os.path.join(p1,j)\n",
    "          r2 = os.path.join(r1,j)\n",
    "          l = 0\n",
    "          skip_length = int(len(os.listdir(p2))/seq_length)\n",
    "            # frame으로 변환된 image들의 총개수/16을 해서 skip_length 크기만큼 띄어서 총 32개의 frame을 뽑아낸다.\n",
    "          for m in range(10):\n",
    "              k = m\n",
    "              while(l!=seq_length):\n",
    "\n",
    "                  p3 = os.path.join(p2,str(k) + \".jpg\")\n",
    "                  try:\n",
    "                      img = cv2.imread(p3)\n",
    "                      img = cv2.resize(img,(128,128))\n",
    "                    # image를 받아와서 128x128의 size로 맞춰준다.\n",
    "                  except:\n",
    "                      print(p3)\n",
    "                  if(k==0):\n",
    "                      img1 = img\n",
    "                  else:\n",
    "                      img1 = np.append(img1,img,axis = 1)\n",
    "                  k = k+skip_length\n",
    "                  l = l+1    \n",
    "              cv2.imwrite(r2 + str(m)+\".jpg\",img1)\n",
    "        # 변환시킨 image를 저장해준다."
   ]
  },
  {
   "cell_type": "code",
   "execution_count": null,
   "metadata": {},
   "outputs": [],
   "source": [
    "from os import rename\n",
    "\n",
    "path = 'content/Dataset_16'\n",
    "dir = os.listdir(path)\n",
    "\n",
    "for i in dir:\n",
    "    print(i)\n",
    "    p1 = os.path.join(path, i)\n",
    "    for j in os.listdir(p1):\n",
    "        print(j)\n",
    "        p2 = os.path.join(p1, j)\n",
    "        print(p2)\n",
    "        count = 0\n",
    "        cur_dir = os.getcwd()\n",
    "        for name in os.listdir(p2):\n",
    "            print(cur_dir)\n",
    "            print(name)\n",
    "            new_name = name.replace(name, \"{0}.jpg\".format(count))\n",
    "            print(new_name)\n",
    "            os.rename(cur_dir + \"\\\\\" + name, cur_dir + \"\\\\\" + new_name)\n",
    "            count += 1"
   ]
  },
  {
   "cell_type": "code",
   "execution_count": null,
   "metadata": {},
   "outputs": [],
   "source": [
    "preprocess_data(seq_length, path, res)\n",
    "# data 전처리 함수"
   ]
  },
  {
   "cell_type": "code",
   "execution_count": null,
   "metadata": {},
   "outputs": [],
   "source": []
  }
 ],
 "metadata": {
  "colab": {
   "collapsed_sections": [],
   "include_colab_link": true,
   "name": "videodata.ipynb",
   "provenance": [],
   "version": "0.3.2"
  },
  "kernelspec": {
   "display_name": "Python 3",
   "language": "python",
   "name": "python3"
  },
  "language_info": {
   "codemirror_mode": {
    "name": "ipython",
    "version": 3
   },
   "file_extension": ".py",
   "mimetype": "text/x-python",
   "name": "python",
   "nbconvert_exporter": "python",
   "pygments_lexer": "ipython3",
   "version": "3.6.12"
  }
 },
 "nbformat": 4,
 "nbformat_minor": 1
}
