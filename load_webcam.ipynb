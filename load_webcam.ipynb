{
 "cells": [
  {
   "cell_type": "code",
   "execution_count": 8,
   "metadata": {},
   "outputs": [
    {
     "name": "stdout",
     "output_type": "stream",
     "text": [
      "width :640, height : 480\n",
      "width :640, height : 480\n",
      "width :640, height : 480\n",
      "width :640, height : 480\n",
      "width :640, height : 480\n",
      "width :640, height : 480\n"
     ]
    }
   ],
   "source": [
    "import cv2\n",
    "import time\n",
    "\n",
    "start = time.time()\n",
    "i = 0\n",
    "duration = 0\n",
    "\n",
    "while(duration <= 20):\n",
    "    cap = cv2.VideoCapture(0)\n",
    "\n",
    "    print('width :%d, height : %d' % (cap.get(3), cap.get(4)))\n",
    "\n",
    "    fourcc = cv2.VideoWriter_fourcc(*'DIVX')\n",
    "    name = 'test_' + str(i) + '.avi'\n",
    "    out = cv2.VideoWriter(name, fourcc, 25.0, (640, 480))\n",
    "    i += 1\n",
    "\n",
    "    while(True):\n",
    "        ret, frame = cap.read()    # Read 결과와 frame\n",
    "        if(ret) :\n",
    "            cv2.imshow('frame_color', frame)    # 컬러 화면 출력  \n",
    "            out.write(frame)\n",
    "\n",
    "            if cv2.waitKey(1) == ord('s'):\n",
    "                break\n",
    "\n",
    "    end = time.time()\n",
    "    duration = end - start\n",
    "    \n",
    "    cap.release()\n",
    "    cv2.destroyAllWindows()"
   ]
  },
  {
   "cell_type": "code",
   "execution_count": null,
   "metadata": {},
   "outputs": [],
   "source": []
  }
 ],
 "metadata": {
  "kernelspec": {
   "display_name": "Python 3",
   "language": "python",
   "name": "python3"
  },
  "language_info": {
   "codemirror_mode": {
    "name": "ipython",
    "version": 3
   },
   "file_extension": ".py",
   "mimetype": "text/x-python",
   "name": "python",
   "nbconvert_exporter": "python",
   "pygments_lexer": "ipython3",
   "version": "3.6.12"
  }
 },
 "nbformat": 4,
 "nbformat_minor": 4
}
